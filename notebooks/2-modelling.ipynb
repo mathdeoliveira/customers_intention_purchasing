{
 "cells": [
  {
   "attachments": {},
   "cell_type": "markdown",
   "metadata": {},
   "source": [
    "# Imports"
   ]
  },
  {
   "cell_type": "code",
   "execution_count": 1,
   "metadata": {},
   "outputs": [],
   "source": [
    "import pandas as pd\n",
    "import sys\n",
    "from sklearn.linear_model import LogisticRegression\n",
    "from sklearn.model_selection import cross_val_score, train_test_split\n",
    "from sklearn.pipeline import Pipeline\n",
    "from sklearn.preprocessing import MinMaxScaler\n",
    "from feature_engine.wrappers import SklearnTransformerWrapper\n",
    "from feature_engine.encoding import RareLabelEncoder, OneHotEncoder\n",
    "from sklearn.metrics import f1_score, precision_score, recall_score, classification_report\n",
    "\n",
    "sys.path.append('../src/')\n",
    "from utils import name_category_features"
   ]
  },
  {
   "attachments": {},
   "cell_type": "markdown",
   "metadata": {},
   "source": [
    "# Loading data"
   ]
  },
  {
   "cell_type": "code",
   "execution_count": 2,
   "metadata": {},
   "outputs": [],
   "source": [
    "df = pd.read_csv('../data/processed/train.csv')"
   ]
  },
  {
   "attachments": {},
   "cell_type": "markdown",
   "metadata": {},
   "source": [
    "## Prepare data"
   ]
  },
  {
   "cell_type": "code",
   "execution_count": 3,
   "metadata": {},
   "outputs": [],
   "source": [
    "df[name_category_features()] = df[name_category_features()].astype(object)"
   ]
  },
  {
   "attachments": {},
   "cell_type": "markdown",
   "metadata": {},
   "source": [
    "## Splitting data"
   ]
  },
  {
   "cell_type": "code",
   "execution_count": 4,
   "metadata": {},
   "outputs": [],
   "source": [
    "X = df.drop('Revenue', axis=1)\n",
    "y = df['Revenue'].ravel()\n",
    "\n",
    "X_train, X_test, y_train, y_test = train_test_split(\n",
    "            X, y,\n",
    "            test_size=0.3,\n",
    "            random_state=42,\n",
    "            stratify=df[['to_split']],\n",
    "        )\n",
    "X_train.drop('to_split', axis=1, inplace=True)\n",
    "X_test.drop('to_split', axis=1, inplace=True)"
   ]
  },
  {
   "attachments": {},
   "cell_type": "markdown",
   "metadata": {},
   "source": [
    "# Pipeline"
   ]
  },
  {
   "cell_type": "code",
   "execution_count": 5,
   "metadata": {},
   "outputs": [],
   "source": [
    "mm = MinMaxScaler()\n",
    "rare_enc = RareLabelEncoder(n_categories = 5,variables=['Month',\n",
    "                                       'OperatingSystems',\t'Browser',\t'Region',\t'TrafficType'])\n",
    "onehot_enc = OneHotEncoder(variables=['Month','OperatingSystems',\t'Browser',\t'Region',\t'TrafficType',\t'VisitorType'\t,'Weekend'])\n",
    "\n",
    "minmax_scaler = SklearnTransformerWrapper(transformer=mm, variables=['Administrative',\n",
    "'Administrative_Duration',\n",
    "'Informational',\n",
    "'Informational_Duration',\n",
    "'ProductRelated'\t,\n",
    "'ProductRelated_Duration',\n",
    "'BounceRates'\t,\n",
    "'ExitRates',\n",
    "'PageValues'\t,\n",
    "'SpecialDay'])\n",
    "\n",
    "prep_pipe = Pipeline([\n",
    "    ('rare_enc', rare_enc),\n",
    "     ('onehot', onehot_enc),\n",
    "     ('minmax', minmax_scaler)\n",
    "])"
   ]
  },
  {
   "attachments": {},
   "cell_type": "markdown",
   "metadata": {},
   "source": [
    "# Fitting model"
   ]
  },
  {
   "cell_type": "code",
   "execution_count": 6,
   "metadata": {},
   "outputs": [],
   "source": [
    "X_train_transformed = prep_pipe.fit_transform(X_train, y_train)"
   ]
  },
  {
   "cell_type": "code",
   "execution_count": 7,
   "metadata": {},
   "outputs": [],
   "source": [
    "X_test_transformed = prep_pipe.transform(X_test)"
   ]
  },
  {
   "cell_type": "code",
   "execution_count": 54,
   "metadata": {},
   "outputs": [],
   "source": [
    "model = LogisticRegression(max_iter=1000)"
   ]
  },
  {
   "attachments": {},
   "cell_type": "markdown",
   "metadata": {},
   "source": [
    "# Evaluate model with cross validation"
   ]
  },
  {
   "cell_type": "code",
   "execution_count": 55,
   "metadata": {},
   "outputs": [],
   "source": [
    "scores = cross_val_score(model, X_train_transformed, y_train, cv= 10)"
   ]
  },
  {
   "cell_type": "code",
   "execution_count": 56,
   "metadata": {},
   "outputs": [
    {
     "data": {
      "text/plain": [
       "0.871048929998358"
      ]
     },
     "execution_count": 56,
     "metadata": {},
     "output_type": "execute_result"
    }
   ],
   "source": [
    "scores.mean()"
   ]
  },
  {
   "attachments": {},
   "cell_type": "markdown",
   "metadata": {},
   "source": [
    "# Final pipeline"
   ]
  },
  {
   "cell_type": "code",
   "execution_count": 57,
   "metadata": {},
   "outputs": [
    {
     "data": {
      "text/html": [
       "<style>#sk-container-id-1 {color: black;background-color: white;}#sk-container-id-1 pre{padding: 0;}#sk-container-id-1 div.sk-toggleable {background-color: white;}#sk-container-id-1 label.sk-toggleable__label {cursor: pointer;display: block;width: 100%;margin-bottom: 0;padding: 0.3em;box-sizing: border-box;text-align: center;}#sk-container-id-1 label.sk-toggleable__label-arrow:before {content: \"▸\";float: left;margin-right: 0.25em;color: #696969;}#sk-container-id-1 label.sk-toggleable__label-arrow:hover:before {color: black;}#sk-container-id-1 div.sk-estimator:hover label.sk-toggleable__label-arrow:before {color: black;}#sk-container-id-1 div.sk-toggleable__content {max-height: 0;max-width: 0;overflow: hidden;text-align: left;background-color: #f0f8ff;}#sk-container-id-1 div.sk-toggleable__content pre {margin: 0.2em;color: black;border-radius: 0.25em;background-color: #f0f8ff;}#sk-container-id-1 input.sk-toggleable__control:checked~div.sk-toggleable__content {max-height: 200px;max-width: 100%;overflow: auto;}#sk-container-id-1 input.sk-toggleable__control:checked~label.sk-toggleable__label-arrow:before {content: \"▾\";}#sk-container-id-1 div.sk-estimator input.sk-toggleable__control:checked~label.sk-toggleable__label {background-color: #d4ebff;}#sk-container-id-1 div.sk-label input.sk-toggleable__control:checked~label.sk-toggleable__label {background-color: #d4ebff;}#sk-container-id-1 input.sk-hidden--visually {border: 0;clip: rect(1px 1px 1px 1px);clip: rect(1px, 1px, 1px, 1px);height: 1px;margin: -1px;overflow: hidden;padding: 0;position: absolute;width: 1px;}#sk-container-id-1 div.sk-estimator {font-family: monospace;background-color: #f0f8ff;border: 1px dotted black;border-radius: 0.25em;box-sizing: border-box;margin-bottom: 0.5em;}#sk-container-id-1 div.sk-estimator:hover {background-color: #d4ebff;}#sk-container-id-1 div.sk-parallel-item::after {content: \"\";width: 100%;border-bottom: 1px solid gray;flex-grow: 1;}#sk-container-id-1 div.sk-label:hover label.sk-toggleable__label {background-color: #d4ebff;}#sk-container-id-1 div.sk-serial::before {content: \"\";position: absolute;border-left: 1px solid gray;box-sizing: border-box;top: 0;bottom: 0;left: 50%;z-index: 0;}#sk-container-id-1 div.sk-serial {display: flex;flex-direction: column;align-items: center;background-color: white;padding-right: 0.2em;padding-left: 0.2em;position: relative;}#sk-container-id-1 div.sk-item {position: relative;z-index: 1;}#sk-container-id-1 div.sk-parallel {display: flex;align-items: stretch;justify-content: center;background-color: white;position: relative;}#sk-container-id-1 div.sk-item::before, #sk-container-id-1 div.sk-parallel-item::before {content: \"\";position: absolute;border-left: 1px solid gray;box-sizing: border-box;top: 0;bottom: 0;left: 50%;z-index: -1;}#sk-container-id-1 div.sk-parallel-item {display: flex;flex-direction: column;z-index: 1;position: relative;background-color: white;}#sk-container-id-1 div.sk-parallel-item:first-child::after {align-self: flex-end;width: 50%;}#sk-container-id-1 div.sk-parallel-item:last-child::after {align-self: flex-start;width: 50%;}#sk-container-id-1 div.sk-parallel-item:only-child::after {width: 0;}#sk-container-id-1 div.sk-dashed-wrapped {border: 1px dashed gray;margin: 0 0.4em 0.5em 0.4em;box-sizing: border-box;padding-bottom: 0.4em;background-color: white;}#sk-container-id-1 div.sk-label label {font-family: monospace;font-weight: bold;display: inline-block;line-height: 1.2em;}#sk-container-id-1 div.sk-label-container {text-align: center;}#sk-container-id-1 div.sk-container {/* jupyter's `normalize.less` sets `[hidden] { display: none; }` but bootstrap.min.css set `[hidden] { display: none !important; }` so we also need the `!important` here to be able to override the default hidden behavior on the sphinx rendered scikit-learn.org. See: https://github.com/scikit-learn/scikit-learn/issues/21755 */display: inline-block !important;position: relative;}#sk-container-id-1 div.sk-text-repr-fallback {display: none;}</style><div id=\"sk-container-id-1\" class=\"sk-top-container\"><div class=\"sk-text-repr-fallback\"><pre>Pipeline(steps=[(&#x27;rare_enc&#x27;,\n",
       "                 RareLabelEncoder(n_categories=5,\n",
       "                                  variables=[&#x27;Month&#x27;, &#x27;OperatingSystems&#x27;,\n",
       "                                             &#x27;Browser&#x27;, &#x27;Region&#x27;,\n",
       "                                             &#x27;TrafficType&#x27;])),\n",
       "                (&#x27;onehot&#x27;,\n",
       "                 OneHotEncoder(variables=[&#x27;Month&#x27;, &#x27;OperatingSystems&#x27;,\n",
       "                                          &#x27;Browser&#x27;, &#x27;Region&#x27;, &#x27;TrafficType&#x27;,\n",
       "                                          &#x27;VisitorType&#x27;, &#x27;Weekend&#x27;])),\n",
       "                (&#x27;minmax&#x27;,\n",
       "                 SklearnTransformerWrapper(transformer=MinMaxScaler(),\n",
       "                                           variables=[&#x27;Administrative&#x27;,\n",
       "                                                      &#x27;Administrative_Duration&#x27;,\n",
       "                                                      &#x27;Informational&#x27;,\n",
       "                                                      &#x27;Informational_Duration&#x27;,\n",
       "                                                      &#x27;ProductRelated&#x27;,\n",
       "                                                      &#x27;ProductRelated_Duration&#x27;,\n",
       "                                                      &#x27;BounceRates&#x27;,\n",
       "                                                      &#x27;ExitRates&#x27;, &#x27;PageValues&#x27;,\n",
       "                                                      &#x27;SpecialDay&#x27;])),\n",
       "                (&#x27;lr&#x27;, LogisticRegression(max_iter=1000))])</pre><b>In a Jupyter environment, please rerun this cell to show the HTML representation or trust the notebook. <br />On GitHub, the HTML representation is unable to render, please try loading this page with nbviewer.org.</b></div><div class=\"sk-container\" hidden><div class=\"sk-item sk-dashed-wrapped\"><div class=\"sk-label-container\"><div class=\"sk-label sk-toggleable\"><input class=\"sk-toggleable__control sk-hidden--visually\" id=\"sk-estimator-id-1\" type=\"checkbox\" ><label for=\"sk-estimator-id-1\" class=\"sk-toggleable__label sk-toggleable__label-arrow\">Pipeline</label><div class=\"sk-toggleable__content\"><pre>Pipeline(steps=[(&#x27;rare_enc&#x27;,\n",
       "                 RareLabelEncoder(n_categories=5,\n",
       "                                  variables=[&#x27;Month&#x27;, &#x27;OperatingSystems&#x27;,\n",
       "                                             &#x27;Browser&#x27;, &#x27;Region&#x27;,\n",
       "                                             &#x27;TrafficType&#x27;])),\n",
       "                (&#x27;onehot&#x27;,\n",
       "                 OneHotEncoder(variables=[&#x27;Month&#x27;, &#x27;OperatingSystems&#x27;,\n",
       "                                          &#x27;Browser&#x27;, &#x27;Region&#x27;, &#x27;TrafficType&#x27;,\n",
       "                                          &#x27;VisitorType&#x27;, &#x27;Weekend&#x27;])),\n",
       "                (&#x27;minmax&#x27;,\n",
       "                 SklearnTransformerWrapper(transformer=MinMaxScaler(),\n",
       "                                           variables=[&#x27;Administrative&#x27;,\n",
       "                                                      &#x27;Administrative_Duration&#x27;,\n",
       "                                                      &#x27;Informational&#x27;,\n",
       "                                                      &#x27;Informational_Duration&#x27;,\n",
       "                                                      &#x27;ProductRelated&#x27;,\n",
       "                                                      &#x27;ProductRelated_Duration&#x27;,\n",
       "                                                      &#x27;BounceRates&#x27;,\n",
       "                                                      &#x27;ExitRates&#x27;, &#x27;PageValues&#x27;,\n",
       "                                                      &#x27;SpecialDay&#x27;])),\n",
       "                (&#x27;lr&#x27;, LogisticRegression(max_iter=1000))])</pre></div></div></div><div class=\"sk-serial\"><div class=\"sk-item\"><div class=\"sk-estimator sk-toggleable\"><input class=\"sk-toggleable__control sk-hidden--visually\" id=\"sk-estimator-id-2\" type=\"checkbox\" ><label for=\"sk-estimator-id-2\" class=\"sk-toggleable__label sk-toggleable__label-arrow\">RareLabelEncoder</label><div class=\"sk-toggleable__content\"><pre>RareLabelEncoder(n_categories=5,\n",
       "                 variables=[&#x27;Month&#x27;, &#x27;OperatingSystems&#x27;, &#x27;Browser&#x27;, &#x27;Region&#x27;,\n",
       "                            &#x27;TrafficType&#x27;])</pre></div></div></div><div class=\"sk-item\"><div class=\"sk-estimator sk-toggleable\"><input class=\"sk-toggleable__control sk-hidden--visually\" id=\"sk-estimator-id-3\" type=\"checkbox\" ><label for=\"sk-estimator-id-3\" class=\"sk-toggleable__label sk-toggleable__label-arrow\">OneHotEncoder</label><div class=\"sk-toggleable__content\"><pre>OneHotEncoder(variables=[&#x27;Month&#x27;, &#x27;OperatingSystems&#x27;, &#x27;Browser&#x27;, &#x27;Region&#x27;,\n",
       "                         &#x27;TrafficType&#x27;, &#x27;VisitorType&#x27;, &#x27;Weekend&#x27;])</pre></div></div></div><div class=\"sk-item sk-dashed-wrapped\"><div class=\"sk-label-container\"><div class=\"sk-label sk-toggleable\"><input class=\"sk-toggleable__control sk-hidden--visually\" id=\"sk-estimator-id-4\" type=\"checkbox\" ><label for=\"sk-estimator-id-4\" class=\"sk-toggleable__label sk-toggleable__label-arrow\">minmax: SklearnTransformerWrapper</label><div class=\"sk-toggleable__content\"><pre>SklearnTransformerWrapper(transformer=MinMaxScaler(),\n",
       "                          variables=[&#x27;Administrative&#x27;,\n",
       "                                     &#x27;Administrative_Duration&#x27;, &#x27;Informational&#x27;,\n",
       "                                     &#x27;Informational_Duration&#x27;, &#x27;ProductRelated&#x27;,\n",
       "                                     &#x27;ProductRelated_Duration&#x27;, &#x27;BounceRates&#x27;,\n",
       "                                     &#x27;ExitRates&#x27;, &#x27;PageValues&#x27;, &#x27;SpecialDay&#x27;])</pre></div></div></div><div class=\"sk-parallel\"><div class=\"sk-parallel-item\"><div class=\"sk-item\"><div class=\"sk-label-container\"><div class=\"sk-label sk-toggleable\"><input class=\"sk-toggleable__control sk-hidden--visually\" id=\"sk-estimator-id-5\" type=\"checkbox\" ><label for=\"sk-estimator-id-5\" class=\"sk-toggleable__label sk-toggleable__label-arrow\">transformer: MinMaxScaler</label><div class=\"sk-toggleable__content\"><pre>MinMaxScaler()</pre></div></div></div><div class=\"sk-serial\"><div class=\"sk-item\"><div class=\"sk-estimator sk-toggleable\"><input class=\"sk-toggleable__control sk-hidden--visually\" id=\"sk-estimator-id-6\" type=\"checkbox\" ><label for=\"sk-estimator-id-6\" class=\"sk-toggleable__label sk-toggleable__label-arrow\">MinMaxScaler</label><div class=\"sk-toggleable__content\"><pre>MinMaxScaler()</pre></div></div></div></div></div></div></div></div><div class=\"sk-item\"><div class=\"sk-estimator sk-toggleable\"><input class=\"sk-toggleable__control sk-hidden--visually\" id=\"sk-estimator-id-7\" type=\"checkbox\" ><label for=\"sk-estimator-id-7\" class=\"sk-toggleable__label sk-toggleable__label-arrow\">LogisticRegression</label><div class=\"sk-toggleable__content\"><pre>LogisticRegression(max_iter=1000)</pre></div></div></div></div></div></div></div>"
      ],
      "text/plain": [
       "Pipeline(steps=[('rare_enc',\n",
       "                 RareLabelEncoder(n_categories=5,\n",
       "                                  variables=['Month', 'OperatingSystems',\n",
       "                                             'Browser', 'Region',\n",
       "                                             'TrafficType'])),\n",
       "                ('onehot',\n",
       "                 OneHotEncoder(variables=['Month', 'OperatingSystems',\n",
       "                                          'Browser', 'Region', 'TrafficType',\n",
       "                                          'VisitorType', 'Weekend'])),\n",
       "                ('minmax',\n",
       "                 SklearnTransformerWrapper(transformer=MinMaxScaler(),\n",
       "                                           variables=['Administrative',\n",
       "                                                      'Administrative_Duration',\n",
       "                                                      'Informational',\n",
       "                                                      'Informational_Duration',\n",
       "                                                      'ProductRelated',\n",
       "                                                      'ProductRelated_Duration',\n",
       "                                                      'BounceRates',\n",
       "                                                      'ExitRates', 'PageValues',\n",
       "                                                      'SpecialDay'])),\n",
       "                ('lr', LogisticRegression(max_iter=1000))])"
      ]
     },
     "execution_count": 57,
     "metadata": {},
     "output_type": "execute_result"
    }
   ],
   "source": [
    "pipe = Pipeline([\n",
    "    ('rare_enc', rare_enc),\n",
    "     ('onehot', onehot_enc),\n",
    "     ('minmax', minmax_scaler),\n",
    "     ('lr', model),\n",
    "])\n",
    "pipe.fit(X_train, y_train)"
   ]
  },
  {
   "cell_type": "code",
   "execution_count": 58,
   "metadata": {},
   "outputs": [],
   "source": [
    "y_train_predict = pipe.predict(X_train)\n",
    "y_test_predict = pipe.predict(X_test)"
   ]
  },
  {
   "cell_type": "code",
   "execution_count": 62,
   "metadata": {},
   "outputs": [
    {
     "name": "stdout",
     "output_type": "stream",
     "text": [
      "              precision    recall  f1-score   support\n",
      "\n",
      "       False       0.88      0.99      0.93      5107\n",
      "        True       0.78      0.24      0.37       934\n",
      "\n",
      "    accuracy                           0.87      6041\n",
      "   macro avg       0.83      0.62      0.65      6041\n",
      "weighted avg       0.86      0.87      0.84      6041\n",
      "\n"
     ]
    }
   ],
   "source": [
    "print(classification_report(y_train, y_train_predict))"
   ]
  },
  {
   "cell_type": "code",
   "execution_count": 63,
   "metadata": {},
   "outputs": [
    {
     "name": "stdout",
     "output_type": "stream",
     "text": [
      "              precision    recall  f1-score   support\n",
      "\n",
      "       False       0.87      0.98      0.93      2189\n",
      "        True       0.73      0.22      0.34       401\n",
      "\n",
      "    accuracy                           0.87      2590\n",
      "   macro avg       0.80      0.60      0.63      2590\n",
      "weighted avg       0.85      0.87      0.83      2590\n",
      "\n"
     ]
    }
   ],
   "source": [
    "print(classification_report(y_test, y_test_predict))"
   ]
  },
  {
   "attachments": {},
   "cell_type": "markdown",
   "metadata": {},
   "source": []
  }
 ],
 "metadata": {
  "kernelspec": {
   "display_name": "env",
   "language": "python",
   "name": "python3"
  },
  "language_info": {
   "codemirror_mode": {
    "name": "ipython",
    "version": 3
   },
   "file_extension": ".py",
   "mimetype": "text/x-python",
   "name": "python",
   "nbconvert_exporter": "python",
   "pygments_lexer": "ipython3",
   "version": "3.10.6"
  },
  "orig_nbformat": 4,
  "vscode": {
   "interpreter": {
    "hash": "ba9f3f6c392aa668ccf8c973310e2e5462649f6f61005d94cc664dc9fa1e24f9"
   }
  }
 },
 "nbformat": 4,
 "nbformat_minor": 2
}
